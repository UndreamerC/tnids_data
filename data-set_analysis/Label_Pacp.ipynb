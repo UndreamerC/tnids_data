{
 "cells": [
  {
   "cell_type": "markdown",
   "id": "24bbda0e-270e-4e7b-93a5-503bf5bfac63",
   "metadata": {},
   "source": [
    "Read Pacp"
   ]
  },
  {
   "cell_type": "code",
   "execution_count": 4,
   "id": "268b8dc3-e225-4e32-a8ed-0c9dc9608374",
   "metadata": {},
   "outputs": [],
   "source": [
    "import pandas as pd\n",
    "import os\n",
    "import subprocess"
   ]
  },
  {
   "cell_type": "code",
   "execution_count": 5,
   "id": "62bbf187-d94c-4774-b476-6614e5278fb2",
   "metadata": {},
   "outputs": [],
   "source": [
    "root=\"/\"\n",
    "data_dir = os.path.join(root,'local', 'nids', 'kitsune','output')\n",
    "label_dir = os.path.join(root,'local', 'nids', 'result')\n",
    "output_dir = os.path.join(root,'local', 'nids', 'result','output')\n",
    "os.makedirs(output_dir, exist_ok=True)\n",
    "targets=[\"Active_Wiretap\",\"ARP_MitM\",\"Fuzzing\",\"Mirai\",\"SSDP_Flood\",\"SSL_Renegotiation\",\"SYN_DoS\",\"Video_Injection\",\"OS_Scan\"]\n",
    "#targets=[\"OS_Scan\"]"
   ]
  },
  {
   "cell_type": "code",
   "execution_count": 6,
   "id": "dbc494bf-c6a8-4615-9032-8eb1f83d3a6f",
   "metadata": {},
   "outputs": [
    {
     "name": "stdout",
     "output_type": "stream",
     "text": [
      "OS_Scan_target_pcap.csv\n"
     ]
    }
   ],
   "source": [
    "for target in targets:\n",
    "    dataset_path = os.path.join(data_dir, f\"{target}_pcap_feature.csv\")\n",
    "    labels_path = os.path.join(label_dir, f\"{target}_labels.csv\")\n",
    "    pcap = pd.read_csv(dataset_path,low_memory=False)\n",
    "    \n",
    "    if target==\"Mirai\":\n",
    "        labels = pd.read_csv(labels_path,header=None)\n",
    "        filtered_labels = labels[labels.iloc[:, 0] == 1]\n",
    "    else:\n",
    "        labels = pd.read_csv(labels_path)\n",
    "        if 'x' not in labels.columns:\n",
    "            print(f\"Column 'x' not found in labels for target: {target}\")\n",
    "            continue\n",
    "        filtered_labels = labels[labels['x'] == 1]  # Filter rows where column 'x' is 1\n",
    "\n",
    "    if len(pcap) != len(labels):\n",
    "        print(f\"Length mismatch for {target}: PCAP has {len(pcap)} rows, Labels have {len(labels)} rows. Skipping target.\")\n",
    "        continue\n",
    "    \n",
    "    filtered_indices = filtered_labels.index\n",
    "    filtered_pcap = pcap.iloc[filtered_indices]\n",
    "    \n",
    "    output_file = os.path.join(output_dir,f\"Target_{target}.csv\")\n",
    "    filtered_pcap.to_csv(output_file, index=False)\n",
    "    print(f\"Target_{target}.csv\")"
   ]
  }
 ],
 "metadata": {
  "kernelspec": {
   "display_name": "nids",
   "language": "python",
   "name": "nids"
  },
  "language_info": {
   "codemirror_mode": {
    "name": "ipython",
    "version": 3
   },
   "file_extension": ".py",
   "mimetype": "text/x-python",
   "name": "python",
   "nbconvert_exporter": "python",
   "pygments_lexer": "ipython3",
   "version": "3.8.20"
  }
 },
 "nbformat": 4,
 "nbformat_minor": 5
}
