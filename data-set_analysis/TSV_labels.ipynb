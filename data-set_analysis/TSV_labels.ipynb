{
 "cells": [
  {
   "cell_type": "markdown",
   "id": "24bbda0e-270e-4e7b-93a5-503bf5bfac63",
   "metadata": {},
   "source": [
    "Read Pacp"
   ]
  },
  {
   "cell_type": "code",
   "execution_count": 1,
   "id": "268b8dc3-e225-4e32-a8ed-0c9dc9608374",
   "metadata": {},
   "outputs": [
    {
     "name": "stderr",
     "output_type": "stream",
     "text": [
      "/home/csgrad/xingyu/miniconda3/envs/nids/lib/python3.8/site-packages/scapy/layers/ipsec.py:469: CryptographyDeprecationWarning: Blowfish has been moved to cryptography.hazmat.decrepit.ciphers.algorithms.Blowfish and will be removed from this module in 45.0.0.\n",
      "  cipher=algorithms.Blowfish,\n",
      "/home/csgrad/xingyu/miniconda3/envs/nids/lib/python3.8/site-packages/scapy/layers/ipsec.py:476: CryptographyDeprecationWarning: TripleDES has been moved to cryptography.hazmat.decrepit.ciphers.algorithms.TripleDES and will be removed from this module in 48.0.0.\n",
      "  cipher=algorithms.TripleDES,\n",
      "/home/csgrad/xingyu/miniconda3/envs/nids/lib/python3.8/site-packages/scapy/layers/ipsec.py:480: CryptographyDeprecationWarning: TripleDES has been moved to cryptography.hazmat.decrepit.ciphers.algorithms.TripleDES and will be removed from this module in 48.0.0.\n",
      "  cipher=algorithms.TripleDES,\n",
      "/home/csgrad/xingyu/miniconda3/envs/nids/lib/python3.8/site-packages/scapy/layers/ipsec.py:483: CryptographyDeprecationWarning: CAST5 has been moved to cryptography.hazmat.decrepit.ciphers.algorithms.CAST5 and will be removed from this module in 45.0.0.\n",
      "  cipher=algorithms.CAST5,\n"
     ]
    }
   ],
   "source": [
    "import pandas as pd\n",
    "import os\n",
    "import subprocess\n",
    "from scapy.all import rdpcap, wrpcap"
   ]
  },
  {
   "cell_type": "code",
   "execution_count": 2,
   "id": "03064b6d",
   "metadata": {},
   "outputs": [],
   "source": [
    "root=os.path.join('/', 'local','nids')\n",
    "data_dir = os.path.join(root,'Data', 'kitsune', 'output')\n",
    "label_dir = os.path.join(root,'result')\n",
    "output_dir = os.path.join(root, 'result','output_csv')\n",
    "os.makedirs(output_dir, exist_ok=True)\n",
    "targets=[\"Active_Wiretap\",\"ARP_MitM\",\"Fuzzing\",\"Mirai\",\"SSDP_Flood\",\"SSL_Renegotiation\",\"SYN_DoS\",\"Video_Injection\",\"OS_Scan\"]\n",
    "#targets=[\"Mirai\",\"SSDP_Flood\",\"SSL_Renegotiation\",\"SYN_DoS\"]\n",
    "#targets=[\"Video_Injection\",\"OS_Scan\"]"
   ]
  },
  {
   "cell_type": "code",
   "execution_count": 3,
   "id": "dbc494bf-c6a8-4615-9032-8eb1f83d3a6f",
   "metadata": {},
   "outputs": [
    {
     "name": "stdout",
     "output_type": "stream",
     "text": [
      "2278689 rows read from dataset\n",
      "2278689 rows read from labels\n",
      "Filtered malicious data saved for target Active_Wiretap!\n",
      "2504267 rows read from dataset\n",
      "2504267 rows read from labels\n",
      "Filtered malicious data saved for target ARP_MitM!\n",
      "2244139 rows read from dataset\n",
      "2244139 rows read from labels\n",
      "Filtered malicious data saved for target Fuzzing!\n",
      "764137 rows read from dataset\n",
      "764137 rows read from labels\n",
      "Filtered malicious data saved for target Mirai!\n",
      "4077266 rows read from dataset\n",
      "4077266 rows read from labels\n",
      "Filtered malicious data saved for target SSDP_Flood!\n",
      "2207571 rows read from dataset\n",
      "2207571 rows read from labels\n",
      "Filtered malicious data saved for target SSL_Renegotiation!\n",
      "2771276 rows read from dataset\n",
      "2771276 rows read from labels\n",
      "Filtered malicious data saved for target SYN_DoS!\n",
      "2472401 rows read from dataset\n",
      "2472401 rows read from labels\n",
      "Filtered malicious data saved for target Video_Injection!\n",
      "1697851 rows read from dataset\n",
      "1697851 rows read from labels\n",
      "Filtered malicious data saved for target OS_Scan!\n"
     ]
    }
   ],
   "source": [
    "for target in targets:\n",
    "    dataset_csv = os.path.join(data_dir, f\"{target}_pcap_feature.csv\")\n",
    "    dataset_tsv = os.path.join(data_dir, f\"{target}_pcap.tsv\")\n",
    "    labels_path = os.path.join(label_dir, f\"{target}_labels.csv\")\n",
    "    output_path = os.path.join(output_dir, f\"{target}_malicious.csv\")\n",
    "\n",
    "    # 读取数据和标签文件\n",
    "    dataset = pd.read_csv(dataset_csv)\n",
    "    labels = pd.read_csv(labels_path)\n",
    "    \n",
    "    print(f\"{len(dataset)} rows read from dataset\")\n",
    "    print(f\"{len(labels)} rows read from labels\")\n",
    "\n",
    "    malicious_rows = labels[labels['x'] == 1]\n",
    "\n",
    "\n",
    "    if len(dataset) != len(labels):\n",
    "        print(f\"Length mismatch for {target}: Dataset has {len(dataset)} rows, Labels have {len(labels)} rows. Skipping target.\")\n",
    "        continue\n",
    "    \n",
    "    # 使用标签文件筛选出标签为1的行\n",
    "    malicious_rows = dataset[labels['x'] == 1]\n",
    "    \n",
    "    # 保存筛选出的结果\n",
    "    malicious_rows.to_csv(output_path, index=False)\n",
    "    print(f\"Filtered malicious data saved for target {target}!\")"
   ]
  }
 ],
 "metadata": {
  "kernelspec": {
   "display_name": "nids",
   "language": "python",
   "name": "nids"
  },
  "language_info": {
   "codemirror_mode": {
    "name": "ipython",
    "version": 3
   },
   "file_extension": ".py",
   "mimetype": "text/x-python",
   "name": "python",
   "nbconvert_exporter": "python",
   "pygments_lexer": "ipython3",
   "version": "3.8.20"
  }
 },
 "nbformat": 4,
 "nbformat_minor": 5
}
